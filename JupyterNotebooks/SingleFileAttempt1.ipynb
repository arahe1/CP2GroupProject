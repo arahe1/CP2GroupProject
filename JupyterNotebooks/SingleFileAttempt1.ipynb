{
 "cells": [
  {
   "cell_type": "code",
   "execution_count": 1,
   "id": "9b3a187d-df54-4dee-b41d-f9f50a29fa43",
   "metadata": {},
   "outputs": [],
   "source": [
    "import uproot\n",
    "import awkward as ak\n",
    "import numpy as np"
   ]
  },
  {
   "cell_type": "code",
   "execution_count": 2,
   "id": "13cff686-0da0-442f-a0ff-7814ab8b4488",
   "metadata": {},
   "outputs": [],
   "source": [
    "file = uproot.open(\"/lstr/sahara/dune/arahe/CP2Course/CP2GroupProject/TylerStuff/NuTau_art_MuTest_SingleFile/prodgenie_nuCC_dune10kt_1x2x6_1000evts_gen_g4_detsim_reco_251.root\")"
   ]
  },
  {
   "cell_type": "code",
   "execution_count": 3,
   "id": "8a663c64-2675-4298-8710-c8496c3dafa0",
   "metadata": {},
   "outputs": [
    {
     "data": {
      "text/plain": [
       "['RootFileDB;1',\n",
       " 'MetaData;1',\n",
       " 'FileIndex;1',\n",
       " 'Parentage;1',\n",
       " 'Events;1',\n",
       " 'EventMetaData;1',\n",
       " 'SubRuns;1',\n",
       " 'SubRunMetaData;1',\n",
       " 'Runs;1',\n",
       " 'RunMetaData;1',\n",
       " 'ResultsTree;1',\n",
       " 'ResultsMetaData;1']"
      ]
     },
     "execution_count": 3,
     "metadata": {},
     "output_type": "execute_result"
    }
   ],
   "source": [
    "file.keys()"
   ]
  },
  {
   "cell_type": "code",
   "execution_count": 4,
   "id": "c0d8a278-c6d5-4938-8ffa-808328516adf",
   "metadata": {},
   "outputs": [],
   "source": [
    "tree = file[\"Events;1\"]"
   ]
  },
  {
   "cell_type": "code",
   "execution_count": 5,
   "id": "a5cf24c6-1d59-4b67-a08b-b1ddc4fe279e",
   "metadata": {},
   "outputs": [],
   "source": [
    "#tree.keys()"
   ]
  },
  {
   "cell_type": "code",
   "execution_count": 6,
   "id": "3cb789e0-d230-4211-ada8-cdcf4fe89dd5",
   "metadata": {},
   "outputs": [],
   "source": [
    "branch = tree[\"dune::EnergyRecoOutput_energyrecnumu__Reco.\"]"
   ]
  },
  {
   "cell_type": "code",
   "execution_count": 7,
   "id": "5f51296e-90a5-4f7c-a9fd-e96f22dd8e42",
   "metadata": {},
   "outputs": [
    {
     "data": {
      "text/plain": [
       "['dune::EnergyRecoOutput_energyrecnumu__Reco.present',\n",
       " 'dune::EnergyRecoOutput_energyrecnumu__Reco.rangeSetID',\n",
       " 'dune::EnergyRecoOutput_energyrecnumu__Reco.obj']"
      ]
     },
     "execution_count": 7,
     "metadata": {},
     "output_type": "execute_result"
    }
   ],
   "source": [
    "branch.keys()"
   ]
  },
  {
   "cell_type": "code",
   "execution_count": 8,
   "id": "1bc889fc-cddb-4fdf-a9f7-247e8b8dc942",
   "metadata": {},
   "outputs": [],
   "source": [
    "stick = branch[\"dune::EnergyRecoOutput_energyrecnumu__Reco.obj\"]"
   ]
  },
  {
   "cell_type": "code",
   "execution_count": 9,
   "id": "c6f39a30-5c7f-4887-ac0f-4f8bb7395130",
   "metadata": {},
   "outputs": [
    {
     "data": {
      "text/plain": [
       "[]"
      ]
     },
     "execution_count": 9,
     "metadata": {},
     "output_type": "execute_result"
    }
   ],
   "source": [
    "stick.keys()"
   ]
  },
  {
   "cell_type": "code",
   "execution_count": 10,
   "id": "5d2943c8-cef9-4540-878b-9d211cdc9356",
   "metadata": {},
   "outputs": [
    {
     "name": "stdout",
     "output_type": "stream",
     "text": [
      "Branch name: dune::EnergyRecoOutput_energyrecnumu__Reco.obj, Branch type: dune::EnergyRecoOutput\n"
     ]
    }
   ],
   "source": [
    "print(f\"Branch name: {stick.name}, Branch type: {stick.typename}\")"
   ]
  },
  {
   "cell_type": "code",
   "execution_count": 98,
   "id": "0bfe53c0-4176-4f95-8088-6170a8f2d694",
   "metadata": {},
   "outputs": [],
   "source": [
    "#twig = branch.array([\"simb::MCParticles_largeant__G4.obj\"])"
   ]
  },
  {
   "cell_type": "code",
   "execution_count": 99,
   "id": "43facc41-3291-4d7a-a803-8a963d159298",
   "metadata": {},
   "outputs": [],
   "source": [
    "EnergyReco = branch.arrays([\"dune::EnergyRecoOutput_energyrecnumu__Reco.present\", \"dune::EnergyRecoOutput_energyrecnumu__Reco.rangeSetID\", \"dune::EnergyRecoOutput_energyrecnumu__Reco.obj\"])"
   ]
  },
  {
   "cell_type": "code",
   "execution_count": 100,
   "id": "1f26cd05-7597-4e8f-9120-e85931c2ed23",
   "metadata": {},
   "outputs": [],
   "source": [
    "Energy = ak.zip({\n",
    "    \"present\" : EnergyReco[\"dune::EnergyRecoOutput_energyrecnumu__Reco.present\"],\n",
    "    \"rangeID\" : EnergyReco[\"dune::EnergyRecoOutput_energyrecnumu__Reco.rangeSetID\"],\n",
    "    \"obj\" : EnergyReco[\"dune::EnergyRecoOutput_energyrecnumu__Reco.obj\"]\n",
    "})"
   ]
  },
  {
   "cell_type": "code",
   "execution_count": 101,
   "id": "3770d05a-c3f8-4455-b52b-71eba3b587ac",
   "metadata": {},
   "outputs": [
    {
     "name": "stdout",
     "output_type": "stream",
     "text": [
      "[{recoMethodUsed: 0, fRecoVertex: {...}, fNuLorentzVector: {...}, ...}, ...]\n"
     ]
    }
   ],
   "source": [
    "print(EnergyReco[\"dune::EnergyRecoOutput_energyrecnumu__Reco.obj\"])"
   ]
  },
  {
   "cell_type": "code",
   "execution_count": 102,
   "id": "2ed8dd24-50c9-4afe-8e58-6937a230b14f",
   "metadata": {},
   "outputs": [
    {
     "data": {
      "text/html": [
       "<pre>[{recoMethodUsed: 0, fRecoVertex: {...}, fNuLorentzVector: {...}, ...},\n",
       " {recoMethodUsed: 0, fRecoVertex: {...}, fNuLorentzVector: {...}, ...},\n",
       " {recoMethodUsed: 0, fRecoVertex: {...}, fNuLorentzVector: {...}, ...},\n",
       " {recoMethodUsed: 0, fRecoVertex: {...}, fNuLorentzVector: {...}, ...},\n",
       " {recoMethodUsed: 0, fRecoVertex: {...}, fNuLorentzVector: {...}, ...},\n",
       " {recoMethodUsed: 0, fRecoVertex: {...}, fNuLorentzVector: {...}, ...},\n",
       " {recoMethodUsed: 0, fRecoVertex: {...}, fNuLorentzVector: {...}, ...},\n",
       " {recoMethodUsed: 0, fRecoVertex: {...}, fNuLorentzVector: {...}, ...},\n",
       " {recoMethodUsed: 0, fRecoVertex: {...}, fNuLorentzVector: {...}, ...},\n",
       " {recoMethodUsed: 0, fRecoVertex: {...}, fNuLorentzVector: {...}, ...},\n",
       " ...,\n",
       " {recoMethodUsed: 0, fRecoVertex: {...}, fNuLorentzVector: {...}, ...},\n",
       " {recoMethodUsed: 0, fRecoVertex: {...}, fNuLorentzVector: {...}, ...},\n",
       " {recoMethodUsed: 0, fRecoVertex: {...}, fNuLorentzVector: {...}, ...},\n",
       " {recoMethodUsed: 0, fRecoVertex: {...}, fNuLorentzVector: {...}, ...},\n",
       " {recoMethodUsed: 0, fRecoVertex: {...}, fNuLorentzVector: {...}, ...},\n",
       " {recoMethodUsed: 0, fRecoVertex: {...}, fNuLorentzVector: {...}, ...},\n",
       " {recoMethodUsed: 0, fRecoVertex: {...}, fNuLorentzVector: {...}, ...},\n",
       " {recoMethodUsed: 0, fRecoVertex: {...}, fNuLorentzVector: {...}, ...},\n",
       " {recoMethodUsed: 0, fRecoVertex: {...}, fNuLorentzVector: {...}, ...}]\n",
       "--------------------------------------------------------------------------------------------------------------------------------------------------------------------------------------------------------------------------------------------------------------------------------------------------------------------------------------------------------------------------------------------------------------------------------------------------------------------------------------------------------------------------------------------------------------------------------------------------------------------------------------------------------------------------------------------------------------------------------------------------------------------------------------------------------------------------------------------------------------------------------------------------------------------------------------------------------------------------------------------------------------------------------------------------------------------------------------------------------------------------------------------------------------------------------------------------------------------------------------------------------------------------------------------------------------------------------------------------------------------------------------------------------------------------------------------------------------------------------------------------------------------------------------------------\n",
       "backend: cpu\n",
       "nbytes: 132.0 kB\n",
       "type: 1000 * struct[{\n",
       "    recoMethodUsed: int32,\n",
       "    fRecoVertex: struct[{\n",
       "        fCoordinates: struct[{\n",
       "            fX: float64,\n",
       "            fY: float64,\n",
       "            fZ: float64\n",
       "        }, parameters={&quot;__record__&quot;: &quot;ROOT::Math::Cartesian3D&lt;double&gt;&quot;}]\n",
       "    }, parameters={&quot;__record__&quot;: &quot;ROOT::Math::PositionVector3D&lt;ROOT::Math::Cartesian3D&lt;double&gt;,ROOT::Math::DefaultCoordinateSystemTag&gt;&quot;}],\n",
       "    fNuLorentzVector: struct[{\n",
       "        fCoordinates: struct[{\n",
       "            fX: float64,\n",
       "            fY: float64,\n",
       "            fZ: float64,\n",
       "            fT: float64\n",
       "        }, parameters={&quot;__record__&quot;: &quot;ROOT::Math::PxPyPzE4D&lt;double&gt;&quot;}]\n",
       "    }, parameters={&quot;__record__&quot;: &quot;ROOT::Math::LorentzVector&lt;ROOT::Math::PxPyPzE4D&lt;double&gt;&gt;&quot;}],\n",
       "    fLepLorentzVector: struct[{\n",
       "        fCoordinates: struct[{\n",
       "            fX: float64,\n",
       "            fY: float64,\n",
       "            fZ: float64,\n",
       "            fT: float64\n",
       "        }, parameters={&quot;__record__&quot;: &quot;ROOT::Math::PxPyPzE4D&lt;double&gt;&quot;}]\n",
       "    }, parameters={&quot;__record__&quot;: &quot;ROOT::Math::LorentzVector&lt;ROOT::Math::PxPyPzE4D&lt;double&gt;&gt;&quot;}],\n",
       "    fHadLorentzVector: struct[{\n",
       "        fCoordinates: struct[{\n",
       "            fX: float64,\n",
       "            fY: float64,\n",
       "            fZ: float64,\n",
       "            fT: float64\n",
       "        }, parameters={&quot;__record__&quot;: &quot;ROOT::Math::PxPyPzE4D&lt;double&gt;&quot;}]\n",
       "    }, parameters={&quot;__record__&quot;: &quot;ROOT::Math::LorentzVector&lt;ROOT::Math::PxPyPzE4D&lt;double&gt;&gt;&quot;}],\n",
       "    longestTrackContained: int32,\n",
       "    trackMomMethod: int32\n",
       "}, parameters={&quot;__record__&quot;: &quot;dune::EnergyRecoOutput&quot;}]</pre>"
      ],
      "text/plain": [
       "<Array [{recoMethodUsed: 0, ...}, ..., {...}] type='1000 * struct[{recoMeth...'>"
      ]
     },
     "execution_count": 102,
     "metadata": {},
     "output_type": "execute_result"
    }
   ],
   "source": [
    "Energy.obj"
   ]
  },
  {
   "cell_type": "code",
   "execution_count": null,
   "id": "53851458-e8dc-4141-a160-9886d07e186f",
   "metadata": {},
   "outputs": [],
   "source": []
  }
 ],
 "metadata": {
  "kernelspec": {
   "display_name": "Python 3 (ipykernel)",
   "language": "python",
   "name": "python3"
  },
  "language_info": {
   "codemirror_mode": {
    "name": "ipython",
    "version": 3
   },
   "file_extension": ".py",
   "mimetype": "text/x-python",
   "name": "python",
   "nbconvert_exporter": "python",
   "pygments_lexer": "ipython3",
   "version": "3.12.9"
  }
 },
 "nbformat": 4,
 "nbformat_minor": 5
}
